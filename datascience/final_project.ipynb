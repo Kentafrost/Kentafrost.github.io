{
 "cells": [
  {
   "cell_type": "markdown",
   "id": "e3833242",
   "metadata": {},
   "source": [
    "Exercise 2\n",
    "\n",
    "Final project for module 6 in tools for data science(Coursera)"
   ]
  },
  {
   "cell_type": "markdown",
   "id": "e6c20d65",
   "metadata": {},
   "source": [
    "Exercise 3\n",
    "introduction:\n",
    "\n",
    "This is my submits for my final graded test."
   ]
  },
  {
   "cell_type": "markdown",
   "id": "d3b372f2",
   "metadata": {},
   "source": [
    "Exercise 4\n",
    "\n",
    "■ languages used for data science projects ■\n",
    "\n",
    "1: Python\n",
    "\n",
    "2: R(Programming language)\n",
    "\n",
    "3: SQL"
   ]
  },
  {
   "cell_type": "markdown",
   "id": "eb8f4d36",
   "metadata": {},
   "source": [
    "Exercise 5\n",
    "\n",
    "1: Pandas\n",
    "\n",
    "2: matplotlib\n",
    "\n",
    "3: numpy"
   ]
  },
  {
   "cell_type": "markdown",
   "id": "7e466ea3",
   "metadata": {},
   "source": [
    "Exercise 6\n",
    "\n",
    "1: jupyter\n",
    "\n",
    "2: RStudio\n",
    "\n",
    "3: Tableu"
   ]
  },
  {
   "cell_type": "markdown",
   "id": "a2642081",
   "metadata": {},
   "source": [
    "Exercise 7\n",
    "\n",
    "1: When adding value then you can use + character.\n",
    "e.g: \n",
    "x = 2 + 3\n",
    "\n",
    "print(x)\n",
    "\n",
    "x should be printed 5 in this case.\n",
    "\n",
    "2: When dividing value, then you can use / character.\n",
    "e.g:\n",
    "x = 4 / 2\n",
    "\n",
    "print(x)\n",
    "\n",
    "x should be printed 2 in this case."
   ]
  },
  {
   "cell_type": "code",
   "execution_count": null,
   "id": "91f5ed8a",
   "metadata": {},
   "outputs": [
    {
     "name": "stdout",
     "output_type": "stream",
     "text": [
      "6\n",
      "8\n"
     ]
    }
   ],
   "source": [
    "# Execise 8\n",
    "\n",
    "x = 2 * 3\n",
    "y = 4 + 4\n",
    "print(x)\n",
    "print(y)"
   ]
  },
  {
   "cell_type": "code",
   "execution_count": null,
   "id": "3fa3eaf9",
   "metadata": {},
   "outputs": [
    {
     "name": "stdout",
     "output_type": "stream",
     "text": [
      "1.0\n"
     ]
    }
   ],
   "source": [
    "# Exercise 9\n",
    "minutes = 60\n",
    "hour = minutes / 60\n",
    "print(hour)"
   ]
  },
  {
   "cell_type": "markdown",
   "id": "b3410197",
   "metadata": {},
   "source": [
    "Exercise 10\n",
    "\n",
    "This is for expressing what I learned throughout this course on Coursera.\n",
    "Special thanks to Coursera teams."
   ]
  },
  {
   "cell_type": "markdown",
   "id": "8aebd527",
   "metadata": {},
   "source": [
    "Exercise 11\n",
    "\n",
    "Authors Name: Kenta Cho"
   ]
  }
 ],
 "metadata": {
  "kernelspec": {
   "display_name": "Python 3",
   "language": "python",
   "name": "python3"
  },
  "language_info": {
   "codemirror_mode": {
    "name": "ipython",
    "version": 3
   },
   "file_extension": ".py",
   "mimetype": "text/x-python",
   "name": "python",
   "nbconvert_exporter": "python",
   "pygments_lexer": "ipython3",
   "version": "3.12.0"
  }
 },
 "nbformat": 4,
 "nbformat_minor": 5
}
